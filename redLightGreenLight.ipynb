{
 "cells": [
  {
   "cell_type": "code",
   "execution_count": 80,
   "metadata": {
    "collapsed": false
   },
   "outputs": [],
   "source": [
    "import math\n",
    "from PIL import Image\n",
    "\n",
    "# Load Image\n",
    "im = Image.open(\"trafficCam.jpg\") #Can be many different formats.\n",
    "pix = im.load()"
   ]
  },
  {
   "cell_type": "code",
   "execution_count": 75,
   "metadata": {
    "collapsed": false
   },
   "outputs": [],
   "source": [
    "# Create list of all colors w/counts in image\n",
    "colors = im.crop((185,230,215,260)).getcolors(im.size[0]*im.size[1])"
   ]
  },
  {
   "cell_type": "code",
   "execution_count": 76,
   "metadata": {
    "collapsed": false
   },
   "outputs": [],
   "source": [
    "# Calculate average color\n",
    "r=g=b=denom=0\n",
    "for i,j in colors:\n",
    "    r += i*j[0]\n",
    "    g += i*j[1]\n",
    "    b += i*j[2]\n",
    "    denom += i\n",
    "c = (r/denom,g/denom,b/denom)"
   ]
  },
  {
   "cell_type": "code",
   "execution_count": 77,
   "metadata": {
    "collapsed": true
   },
   "outputs": [],
   "source": [
    "# Function for distance between two RGB colors\n",
    "def distance(c1, c2):\n",
    "    (r1,g1,b1) = c1\n",
    "    (r2,g2,b2) = c2\n",
    "    return math.sqrt((r1 - r2)**2 + (g1 - g2) ** 2 + (b1 - b2) **2)"
   ]
  },
  {
   "cell_type": "code",
   "execution_count": 78,
   "metadata": {
    "collapsed": true
   },
   "outputs": [],
   "source": [
    "# Define Red/Green RGB values\n",
    "red = (255,0,0)\n",
    "green = (0,255,0)"
   ]
  },
  {
   "cell_type": "code",
   "execution_count": 79,
   "metadata": {
    "collapsed": false
   },
   "outputs": [
    {
     "name": "stdout",
     "output_type": "stream",
     "text": [
      "Bridge is down\n"
     ]
    }
   ],
   "source": [
    "# Test image color\n",
    "if distance(c,red) > distance(c,green):\n",
    "    print(\"Bridge is down\")\n",
    "elif distance(c,red) < distance(c,green):\n",
    "    print(\"Bridge is up\")\n",
    "else: \n",
    "    print(\"I am experiencing a temporary episode of colorblindness\")\n",
    "    "
   ]
  },
  {
   "cell_type": "code",
   "execution_count": null,
   "metadata": {
    "collapsed": true
   },
   "outputs": [],
   "source": []
  }
 ],
 "metadata": {
  "kernelspec": {
   "display_name": "Python 3",
   "language": "python",
   "name": "python3"
  },
  "language_info": {
   "codemirror_mode": {
    "name": "ipython",
    "version": 3
   },
   "file_extension": ".py",
   "mimetype": "text/x-python",
   "name": "python",
   "nbconvert_exporter": "python",
   "pygments_lexer": "ipython3",
   "version": "3.5.1"
  }
 },
 "nbformat": 4,
 "nbformat_minor": 0
}
