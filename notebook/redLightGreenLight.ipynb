{
 "cells": [
  {
   "cell_type": "code",
   "execution_count": 81,
   "metadata": {
    "collapsed": false
   },
   "outputs": [],
   "source": [
    "import math\n",
    "import requests\n",
    "import urllib\n",
    "import time\n",
    "import os\n",
    "from PIL import Image"
   ]
  },
  {
   "cell_type": "code",
   "execution_count": 87,
   "metadata": {
    "collapsed": false
   },
   "outputs": [],
   "source": [
    "# Download Image\n",
    "jpg = urllib.request.urlretrieve('http://www.seattle.gov/trafficcams/images/Westlake_Dexter.jpg', 'Westlake_Dexter.jpg')[0]"
   ]
  },
  {
   "cell_type": "code",
   "execution_count": 88,
   "metadata": {
    "collapsed": true
   },
   "outputs": [],
   "source": [
    "# Load Image\n",
    "im = Image.open(jpg)\n",
    "pix = im.load()"
   ]
  },
  {
   "cell_type": "code",
   "execution_count": 84,
   "metadata": {
    "collapsed": true
   },
   "outputs": [],
   "source": [
    "maintenanceCheck = im.crop((0,0,20,20)).getcolors(im.size[0]*im.size[1])"
   ]
  },
  {
   "cell_type": "code",
   "execution_count": 89,
   "metadata": {
    "collapsed": false
   },
   "outputs": [
    {
     "data": {
      "image/png": "[encoded data removed]",
      "text/plain": [
       "<PIL.Image._ImageCrop image mode=RGB size=12x6 at 0x1029C3828>"
      ]
     },
     "execution_count": 89,
     "metadata": {},
     "output_type": "execute_result"
    }
   ],
   "source": [
    "im.crop((343,220,355,226))"
   ]
  },
  {
   "cell_type": "code",
   "execution_count": 90,
   "metadata": {
    "collapsed": false
   },
   "outputs": [
    {
     "data": {
      "image/png": "[encoded data removed]",
      "text/plain": [
       "<PIL.Image._ImageCrop image mode=RGB size=12x6 at 0x1029C35F8>"
      ]
     },
     "execution_count": 90,
     "metadata": {},
     "output_type": "execute_result"
    }
   ],
   "source": [
    "im.crop((356,220,368,226))"
   ]
  },
  {
   "cell_type": "code",
   "execution_count": 64,
   "metadata": {
    "collapsed": false
   },
   "outputs": [],
   "source": [
    "# Create list of all colors w/counts in image\n",
    "redLightColors = im.crop((343,220,355,226)).getcolors(im.size[0]*im.size[1])\n",
    "greenLightColors = im.crop((356,220,368,226)).getcolors(im.size[0]*im.size[1])"
   ]
  },
  {
   "cell_type": "code",
   "execution_count": 65,
   "metadata": {
    "collapsed": false
   },
   "outputs": [],
   "source": [
    "# Function to calculate average color\n",
    "def avgColor(colors): \n",
    "    r=g=b=denom=0\n",
    "    for i,j in colors:\n",
    "        r += i*j[0]\n",
    "        g += i*j[1]\n",
    "        b += i*j[2]\n",
    "        denom += i\n",
    "    return (r/denom,g/denom,b/denom)"
   ]
  },
  {
   "cell_type": "code",
   "execution_count": 66,
   "metadata": {
    "collapsed": true
   },
   "outputs": [],
   "source": [
    "# Function for distance between two RGB colors\n",
    "def distance(c1, c2):\n",
    "    (r1,g1,b1) = c1\n",
    "    (r2,g2,b2) = c2\n",
    "    return math.sqrt((r1 - r2)**2 + (g1 - g2) ** 2 + (b1 - b2) **2)"
   ]
  },
  {
   "cell_type": "code",
   "execution_count": 67,
   "metadata": {
    "collapsed": true
   },
   "outputs": [],
   "source": [
    "# Define Black/Red/Green RGB values\n",
    "black = (0,0,0)\n",
    "red = (255,0,0)\n",
    "green = (0,255,0)"
   ]
  },
  {
   "cell_type": "code",
   "execution_count": 68,
   "metadata": {
    "collapsed": false
   },
   "outputs": [
    {
     "name": "stdout",
     "output_type": "stream",
     "text": [
      "Bridge is up\n"
     ]
    }
   ],
   "source": [
    "# Test image color\n",
    "if distance(avgColor(greenLightColors),green) < distance(avgColor(greenLightColors),black) and \\\n",
    "    distance(avgColor(redLightColors),black) < distance(avgColor(redLightColors),red):\n",
    "    print(\"Bridge is down\")\n",
    "elif distance(avgColor(redLightColors),red) < distance(avgColor(redLightColors),black) and \\\n",
    "    distance(avgColor(greenLightColors),black) < distance(avgColor(greenLightColors),green):\n",
    "    print(\"Bridge is up\")\n",
    "else: \n",
    "    print(\"I am experiencing a temporary episode of colorblindness\")\n",
    "    "
   ]
  }
 ],
 "metadata": {
  "kernelspec": {
   "display_name": "Python 3",
   "language": "python",
   "name": "python3"
  },
  "language_info": {
   "codemirror_mode": {
    "name": "ipython",
    "version": 3
   },
   "file_extension": ".py",
   "mimetype": "text/x-python",
   "name": "python",
   "nbconvert_exporter": "python",
   "pygments_lexer": "ipython3",
   "version": "3.5.1"
  }
 },
 "nbformat": 4,
 "nbformat_minor": 0
}
